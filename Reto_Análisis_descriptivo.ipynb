{
  "nbformat": 4,
  "nbformat_minor": 0,
  "metadata": {
    "colab": {
      "provenance": [],
      "authorship_tag": "ABX9TyO9EIRTqXZeWeKw4eG6k5LA",
      "include_colab_link": true
    },
    "kernelspec": {
      "name": "python3",
      "display_name": "Python 3"
    },
    "language_info": {
      "name": "python"
    }
  },
  "cells": [
    {
      "cell_type": "markdown",
      "metadata": {
        "id": "view-in-github",
        "colab_type": "text"
      },
      "source": [
        "<a href=\"https://colab.research.google.com/github/Jesa18/Practica-Des/blob/main/Reto_An%C3%A1lisis_descriptivo.ipynb\" target=\"_parent\"><img src=\"https://colab.research.google.com/assets/colab-badge.svg\" alt=\"Open In Colab\"/></a>"
      ]
    },
    {
      "cell_type": "code",
      "execution_count": 7,
      "metadata": {
        "id": "e9ywC_E_q8lR"
      },
      "outputs": [],
      "source": [
        "file_handler = open('/content/Employees.csv', 'r')\n",
        "edad = []\n",
        "cuenta_genero_masculino = 0\n",
        "cuenta_genero_femenino = 0\n",
        "\n",
        "next(file_handler)\n",
        "\n",
        "for line in file_handler:\n",
        "    columnas = line.split(\",\")\n",
        "    if columnas[2] != \"\":\n",
        "      edad.append(int(columnas[2]))\n",
        "\n",
        "    if columnas[1] != \"\":\n",
        "      if columnas[1] == 'F':\n",
        "        cuenta_genero_femenino += 1 ## Femenino = 1 Y Masculino = 0\n",
        "      else:\n",
        "        cuenta_genero_masculino += 1\n",
        "\n",
        "file_handler.close()\n"
      ]
    },
    {
      "cell_type": "code",
      "source": [
        "edad_promedio = round((sum(edad)/len(edad)),1)\n",
        "print(\"\\033[1;30m\"+\"¿Cuál es la edad promedio de los empleados?\" + \"\\033[0;0m\")\n",
        "print(f'La edad promedio de los empleados es {edad_promedio} años')"
      ],
      "metadata": {
        "colab": {
          "base_uri": "https://localhost:8080/"
        },
        "id": "jtXHNO0mZqlM",
        "outputId": "f5504f50-47c0-43e3-e925-553be7c821c2"
      },
      "execution_count": 28,
      "outputs": [
        {
          "output_type": "stream",
          "name": "stdout",
          "text": [
            "\u001b[1;30m¿Cuál es la edad promedio de los empleados?\u001b[0;0m\n",
            "La edad promedio de los empleados es 39.6 años\n"
          ]
        }
      ]
    },
    {
      "cell_type": "code",
      "source": [
        "print(\"\\033[1;30m\"+\"¿Hay más hombres o mujeres en la muestra?\" + \"\\033[0;0m\")\n",
        "if cuenta_genero_masculino > cuenta_genero_femenino:\n",
        "  print(\"En la muestra hay más hombres\")\n",
        "elif cuenta_genero_masculino < cuenta_genero_femenino:\n",
        "  print(\"En la muestra hay más mujeres\")\n",
        "else:\n",
        "  print(\"En la muestra hay igual número de mujeres y hombres\")"
      ],
      "metadata": {
        "colab": {
          "base_uri": "https://localhost:8080/"
        },
        "id": "459373oYc_da",
        "outputId": "fe23e9f6-27a4-49f4-8915-e7f8562069d9"
      },
      "execution_count": 30,
      "outputs": [
        {
          "output_type": "stream",
          "name": "stdout",
          "text": [
            "\u001b[1;30m¿Hay más hombres o mujeres en la muestra?\u001b[0;0m\n",
            "En la muestra hay más mujeres\n"
          ]
        }
      ]
    }
  ]
}